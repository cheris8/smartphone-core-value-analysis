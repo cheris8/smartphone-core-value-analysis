{
  "nbformat": 4,
  "nbformat_minor": 0,
  "metadata": {
    "colab": {
      "name": "topic_modeling.ipynb",
      "provenance": [],
      "collapsed_sections": []
    },
    "kernelspec": {
      "name": "python3",
      "display_name": "Python 3"
    },
    "language_info": {
      "name": "python"
    }
  },
  "cells": [
    {
      "cell_type": "code",
      "execution_count": null,
      "metadata": {
        "id": "dAEyQjS3WBRo",
        "colab": {
          "base_uri": "https://localhost:8080/"
        },
        "outputId": "bab7b6c7-9533-41e2-cc45-b9a7c012b55d"
      },
      "outputs": [
        {
          "output_type": "stream",
          "name": "stdout",
          "text": [
            "Drive already mounted at /content/drive; to attempt to forcibly remount, call drive.mount(\"/content/drive\", force_remount=True).\n"
          ]
        }
      ],
      "source": [
        "from google.colab import drive\n",
        "drive.mount('/content/drive')"
      ]
    },
    {
      "cell_type": "code",
      "source": [
        "!pip install soynlp\n",
        "!pip install konlpy "
      ],
      "metadata": {
        "colab": {
          "base_uri": "https://localhost:8080/"
        },
        "id": "rU563zlZVyQo",
        "outputId": "e390dd62-7c60-47d8-f678-20094698eed2"
      },
      "execution_count": null,
      "outputs": [
        {
          "output_type": "stream",
          "name": "stdout",
          "text": [
            "Looking in indexes: https://pypi.org/simple, https://us-python.pkg.dev/colab-wheels/public/simple/\n",
            "Collecting soynlp\n",
            "  Downloading soynlp-0.0.493-py3-none-any.whl (416 kB)\n",
            "\u001b[K     |████████████████████████████████| 416 kB 4.6 MB/s \n",
            "\u001b[?25hRequirement already satisfied: psutil>=5.0.1 in /usr/local/lib/python3.7/dist-packages (from soynlp) (5.4.8)\n",
            "Requirement already satisfied: numpy>=1.12.1 in /usr/local/lib/python3.7/dist-packages (from soynlp) (1.21.6)\n",
            "Requirement already satisfied: scipy>=1.1.0 in /usr/local/lib/python3.7/dist-packages (from soynlp) (1.4.1)\n",
            "Requirement already satisfied: scikit-learn>=0.20.0 in /usr/local/lib/python3.7/dist-packages (from soynlp) (1.0.2)\n",
            "Requirement already satisfied: threadpoolctl>=2.0.0 in /usr/local/lib/python3.7/dist-packages (from scikit-learn>=0.20.0->soynlp) (3.1.0)\n",
            "Requirement already satisfied: joblib>=0.11 in /usr/local/lib/python3.7/dist-packages (from scikit-learn>=0.20.0->soynlp) (1.1.0)\n",
            "Installing collected packages: soynlp\n",
            "Successfully installed soynlp-0.0.493\n",
            "Looking in indexes: https://pypi.org/simple, https://us-python.pkg.dev/colab-wheels/public/simple/\n",
            "Collecting konlpy\n",
            "  Downloading konlpy-0.6.0-py2.py3-none-any.whl (19.4 MB)\n",
            "\u001b[K     |████████████████████████████████| 19.4 MB 36.4 MB/s \n",
            "\u001b[?25hRequirement already satisfied: lxml>=4.1.0 in /usr/local/lib/python3.7/dist-packages (from konlpy) (4.2.6)\n",
            "Requirement already satisfied: numpy>=1.6 in /usr/local/lib/python3.7/dist-packages (from konlpy) (1.21.6)\n",
            "Collecting JPype1>=0.7.0\n",
            "  Downloading JPype1-1.4.0-cp37-cp37m-manylinux_2_5_x86_64.manylinux1_x86_64.whl (453 kB)\n",
            "\u001b[K     |████████████████████████████████| 453 kB 36.8 MB/s \n",
            "\u001b[?25hRequirement already satisfied: typing-extensions in /usr/local/lib/python3.7/dist-packages (from JPype1>=0.7.0->konlpy) (4.2.0)\n",
            "Installing collected packages: JPype1, konlpy\n",
            "Successfully installed JPype1-1.4.0 konlpy-0.6.0\n"
          ]
        }
      ]
    },
    {
      "cell_type": "code",
      "source": [
        "#!pip install gensim\n",
        "import gensim\n",
        "from gensim import corpora, models\n",
        "from gensim.models import CoherenceModel\n",
        "import pandas as pd\n",
        "from pandas import DataFrame  as df\n",
        "import numpy as np\n",
        "from collections import Counter\n",
        "%matplotlib inline\n",
        "import matplotlib.pyplot as plt\n",
        "import re \n",
        "import gensim\n",
        "from gensim import corpora, models\n",
        "from gensim.models import CoherenceModel\n",
        "from wordcloud import WordCloud\n",
        "from datetime import datetime\n",
        "from soynlp.tokenizer import LTokenizer\n",
        "from soynlp.noun import LRNounExtractor_v2\n",
        "from collections import Counter\n",
        "from bs4 import BeautifulSoup\n",
        "import nltk\n",
        "from nltk.tokenize import word_tokenize\n",
        "from nltk.corpus import stopwords\n",
        "from nltk.stem.snowball import SnowballStemmer\n",
        "from sklearn.feature_extraction.text import TfidfVectorizer\n",
        "import matplotlib.pyplot as plt\n",
        "from gensim.models import CoherenceModel\n",
        "from konlpy.tag import Okt\n",
        "import tqdm\n",
        "import pandas as pd"
      ],
      "metadata": {
        "id": "fN-LC3ZRXPuI"
      },
      "execution_count": null,
      "outputs": []
    },
    {
      "cell_type": "code",
      "source": [
        "URL =\"\"\n",
        "df = pd.read_csv(\"../content/drive/MyDrive/Colab Notebooks/텍스트마이닝 수업/data/TextMiningCoupangData_0610.csv\")"
      ],
      "metadata": {
        "id": "XbxT-t3NXfwE"
      },
      "execution_count": null,
      "outputs": []
    },
    {
      "cell_type": "code",
      "source": [
        "df2 = df[['제조회사','별점','상품평']].drop_duplicates()\n",
        "df2.reset_index(drop=True, inplace =True)"
      ],
      "metadata": {
        "id": "ZfxYW0xlYgIV"
      },
      "execution_count": null,
      "outputs": []
    },
    {
      "cell_type": "code",
      "source": [
        "df2 = df2[(df2['제조회사'] == '삼성전자') | (df2['제조회사'] == 'Apple') ]"
      ],
      "metadata": {
        "id": "qTmWjmKmVLbR"
      },
      "execution_count": null,
      "outputs": []
    },
    {
      "cell_type": "code",
      "source": [
        "df2['제조회사'].unique()"
      ],
      "metadata": {
        "colab": {
          "base_uri": "https://localhost:8080/"
        },
        "id": "yNEyVAvfVqsx",
        "outputId": "30dc327b-7ab7-4557-8db8-b3fe709c86b0"
      },
      "execution_count": null,
      "outputs": [
        {
          "output_type": "execute_result",
          "data": {
            "text/plain": [
              "array(['Apple', '삼성전자'], dtype=object)"
            ]
          },
          "metadata": {},
          "execution_count": 15
        }
      ]
    },
    {
      "cell_type": "code",
      "source": [
        "df2"
      ],
      "metadata": {
        "colab": {
          "base_uri": "https://localhost:8080/",
          "height": 423
        },
        "id": "ss8LJKmeUdfB",
        "outputId": "878584e0-5633-4ac4-b1dc-4adebdcc6282"
      },
      "execution_count": null,
      "outputs": [
        {
          "output_type": "execute_result",
          "data": {
            "text/plain": [
              "        제조회사  별점                                                상품평\n",
              "0      Apple   5  드뎌 왔네요 아이폰 se 2  언론에서 소위 스마트폰 생태계 교란종이라 하던데 AP...\n",
              "1      Apple   5  구매에 도움이 되고자 솔직히 썼어요    구매 4 30 배송 5 7 도착 사전예약 ...\n",
              "2      Apple   5  고등학생 아이가 쓸 핸드폰으로 구매했습니다        기존에 쓰던 폰도 아이폰 S...\n",
              "3      Apple   5                                              드뎌 왔네\n",
              "4      Apple   5  구매에 도움이 되고자 솔직히 썼어요    구매 4 30 배송 5 7 도착 사전예약 ...\n",
              "...      ...  ..                                                ...\n",
              "10010   삼성전자   1    핸펀에 렉이 자꾸 걸려요  자동이로 화면 꺼질 때 까지 기다려야되요  핸펀  후졌어요\n",
              "10011   삼성전자   1  절대 이거 사지마세요 산지 두달만에 갑자기 지혼자 뜨거워지도니 꺼지고 터치 안먹는데...\n",
              "10012   삼성전자   1          충전기 정품아닙니다 한번 썻는데 고장이네요 다이소에서 사도 이것보단 나을듯\n",
              "10013   삼성전자   1                                            별점도 아까움\n",
              "10014   삼성전자   1                   오전에 개통전화  못받아서 문자오더니 오후에 전화 준다더니\n",
              "\n",
              "[10015 rows x 3 columns]"
            ],
            "text/html": [
              "\n",
              "  <div id=\"df-27c316d6-4aed-4d66-862f-a1356add34a6\">\n",
              "    <div class=\"colab-df-container\">\n",
              "      <div>\n",
              "<style scoped>\n",
              "    .dataframe tbody tr th:only-of-type {\n",
              "        vertical-align: middle;\n",
              "    }\n",
              "\n",
              "    .dataframe tbody tr th {\n",
              "        vertical-align: top;\n",
              "    }\n",
              "\n",
              "    .dataframe thead th {\n",
              "        text-align: right;\n",
              "    }\n",
              "</style>\n",
              "<table border=\"1\" class=\"dataframe\">\n",
              "  <thead>\n",
              "    <tr style=\"text-align: right;\">\n",
              "      <th></th>\n",
              "      <th>제조회사</th>\n",
              "      <th>별점</th>\n",
              "      <th>상품평</th>\n",
              "    </tr>\n",
              "  </thead>\n",
              "  <tbody>\n",
              "    <tr>\n",
              "      <th>0</th>\n",
              "      <td>Apple</td>\n",
              "      <td>5</td>\n",
              "      <td>드뎌 왔네요 아이폰 se 2  언론에서 소위 스마트폰 생태계 교란종이라 하던데 AP...</td>\n",
              "    </tr>\n",
              "    <tr>\n",
              "      <th>1</th>\n",
              "      <td>Apple</td>\n",
              "      <td>5</td>\n",
              "      <td>구매에 도움이 되고자 솔직히 썼어요    구매 4 30 배송 5 7 도착 사전예약 ...</td>\n",
              "    </tr>\n",
              "    <tr>\n",
              "      <th>2</th>\n",
              "      <td>Apple</td>\n",
              "      <td>5</td>\n",
              "      <td>고등학생 아이가 쓸 핸드폰으로 구매했습니다        기존에 쓰던 폰도 아이폰 S...</td>\n",
              "    </tr>\n",
              "    <tr>\n",
              "      <th>3</th>\n",
              "      <td>Apple</td>\n",
              "      <td>5</td>\n",
              "      <td>드뎌 왔네</td>\n",
              "    </tr>\n",
              "    <tr>\n",
              "      <th>4</th>\n",
              "      <td>Apple</td>\n",
              "      <td>5</td>\n",
              "      <td>구매에 도움이 되고자 솔직히 썼어요    구매 4 30 배송 5 7 도착 사전예약 ...</td>\n",
              "    </tr>\n",
              "    <tr>\n",
              "      <th>...</th>\n",
              "      <td>...</td>\n",
              "      <td>...</td>\n",
              "      <td>...</td>\n",
              "    </tr>\n",
              "    <tr>\n",
              "      <th>10010</th>\n",
              "      <td>삼성전자</td>\n",
              "      <td>1</td>\n",
              "      <td>핸펀에 렉이 자꾸 걸려요  자동이로 화면 꺼질 때 까지 기다려야되요  핸펀  후졌어요</td>\n",
              "    </tr>\n",
              "    <tr>\n",
              "      <th>10011</th>\n",
              "      <td>삼성전자</td>\n",
              "      <td>1</td>\n",
              "      <td>절대 이거 사지마세요 산지 두달만에 갑자기 지혼자 뜨거워지도니 꺼지고 터치 안먹는데...</td>\n",
              "    </tr>\n",
              "    <tr>\n",
              "      <th>10012</th>\n",
              "      <td>삼성전자</td>\n",
              "      <td>1</td>\n",
              "      <td>충전기 정품아닙니다 한번 썻는데 고장이네요 다이소에서 사도 이것보단 나을듯</td>\n",
              "    </tr>\n",
              "    <tr>\n",
              "      <th>10013</th>\n",
              "      <td>삼성전자</td>\n",
              "      <td>1</td>\n",
              "      <td>별점도 아까움</td>\n",
              "    </tr>\n",
              "    <tr>\n",
              "      <th>10014</th>\n",
              "      <td>삼성전자</td>\n",
              "      <td>1</td>\n",
              "      <td>오전에 개통전화  못받아서 문자오더니 오후에 전화 준다더니</td>\n",
              "    </tr>\n",
              "  </tbody>\n",
              "</table>\n",
              "<p>10015 rows × 3 columns</p>\n",
              "</div>\n",
              "      <button class=\"colab-df-convert\" onclick=\"convertToInteractive('df-27c316d6-4aed-4d66-862f-a1356add34a6')\"\n",
              "              title=\"Convert this dataframe to an interactive table.\"\n",
              "              style=\"display:none;\">\n",
              "        \n",
              "  <svg xmlns=\"http://www.w3.org/2000/svg\" height=\"24px\"viewBox=\"0 0 24 24\"\n",
              "       width=\"24px\">\n",
              "    <path d=\"M0 0h24v24H0V0z\" fill=\"none\"/>\n",
              "    <path d=\"M18.56 5.44l.94 2.06.94-2.06 2.06-.94-2.06-.94-.94-2.06-.94 2.06-2.06.94zm-11 1L8.5 8.5l.94-2.06 2.06-.94-2.06-.94L8.5 2.5l-.94 2.06-2.06.94zm10 10l.94 2.06.94-2.06 2.06-.94-2.06-.94-.94-2.06-.94 2.06-2.06.94z\"/><path d=\"M17.41 7.96l-1.37-1.37c-.4-.4-.92-.59-1.43-.59-.52 0-1.04.2-1.43.59L10.3 9.45l-7.72 7.72c-.78.78-.78 2.05 0 2.83L4 21.41c.39.39.9.59 1.41.59.51 0 1.02-.2 1.41-.59l7.78-7.78 2.81-2.81c.8-.78.8-2.07 0-2.86zM5.41 20L4 18.59l7.72-7.72 1.47 1.35L5.41 20z\"/>\n",
              "  </svg>\n",
              "      </button>\n",
              "      \n",
              "  <style>\n",
              "    .colab-df-container {\n",
              "      display:flex;\n",
              "      flex-wrap:wrap;\n",
              "      gap: 12px;\n",
              "    }\n",
              "\n",
              "    .colab-df-convert {\n",
              "      background-color: #E8F0FE;\n",
              "      border: none;\n",
              "      border-radius: 50%;\n",
              "      cursor: pointer;\n",
              "      display: none;\n",
              "      fill: #1967D2;\n",
              "      height: 32px;\n",
              "      padding: 0 0 0 0;\n",
              "      width: 32px;\n",
              "    }\n",
              "\n",
              "    .colab-df-convert:hover {\n",
              "      background-color: #E2EBFA;\n",
              "      box-shadow: 0px 1px 2px rgba(60, 64, 67, 0.3), 0px 1px 3px 1px rgba(60, 64, 67, 0.15);\n",
              "      fill: #174EA6;\n",
              "    }\n",
              "\n",
              "    [theme=dark] .colab-df-convert {\n",
              "      background-color: #3B4455;\n",
              "      fill: #D2E3FC;\n",
              "    }\n",
              "\n",
              "    [theme=dark] .colab-df-convert:hover {\n",
              "      background-color: #434B5C;\n",
              "      box-shadow: 0px 1px 3px 1px rgba(0, 0, 0, 0.15);\n",
              "      filter: drop-shadow(0px 1px 2px rgba(0, 0, 0, 0.3));\n",
              "      fill: #FFFFFF;\n",
              "    }\n",
              "  </style>\n",
              "\n",
              "      <script>\n",
              "        const buttonEl =\n",
              "          document.querySelector('#df-27c316d6-4aed-4d66-862f-a1356add34a6 button.colab-df-convert');\n",
              "        buttonEl.style.display =\n",
              "          google.colab.kernel.accessAllowed ? 'block' : 'none';\n",
              "\n",
              "        async function convertToInteractive(key) {\n",
              "          const element = document.querySelector('#df-27c316d6-4aed-4d66-862f-a1356add34a6');\n",
              "          const dataTable =\n",
              "            await google.colab.kernel.invokeFunction('convertToInteractive',\n",
              "                                                     [key], {});\n",
              "          if (!dataTable) return;\n",
              "\n",
              "          const docLinkHtml = 'Like what you see? Visit the ' +\n",
              "            '<a target=\"_blank\" href=https://colab.research.google.com/notebooks/data_table.ipynb>data table notebook</a>'\n",
              "            + ' to learn more about interactive tables.';\n",
              "          element.innerHTML = '';\n",
              "          dataTable['output_type'] = 'display_data';\n",
              "          await google.colab.output.renderOutput(dataTable, element);\n",
              "          const docLink = document.createElement('div');\n",
              "          docLink.innerHTML = docLinkHtml;\n",
              "          element.appendChild(docLink);\n",
              "        }\n",
              "      </script>\n",
              "    </div>\n",
              "  </div>\n",
              "  "
            ]
          },
          "metadata": {},
          "execution_count": 16
        }
      ]
    },
    {
      "cell_type": "markdown",
      "source": [
        "# 1. 전체 토픽 모델링"
      ],
      "metadata": {
        "id": "7d44OOhHZnWL"
      }
    },
    {
      "cell_type": "code",
      "source": [
        "def preprocess(data,stopwords):\n",
        "  data_word=[]\n",
        "  for i in tqdm.tqdm(range(len(list(data['상품평'])))):\n",
        "    try:\n",
        "      okt = Okt()\n",
        "      tem = okt.nouns(data['상품평'][i])\n",
        "      tem = [t for t in tem if t not in stopwords]\n",
        "      data_word.append(tem)\n",
        "    except:\n",
        "      print(\"skip\")\n",
        "      #data_word.append([''])\n",
        "\n",
        "  high_score_reviews = data_word\n",
        "  high_score_reviews = [[y for y in x if not len(y)==1]\n",
        "                      for x in high_score_reviews]\n",
        "  dictionary = corpora.Dictionary(high_score_reviews)\n",
        "  corpus = [dictionary.doc2bow(text) for text in high_score_reviews]\n",
        "\n",
        "  return data_word,corpus,dictionary,high_score_reviews"
      ],
      "metadata": {
        "id": "SWDyNH38XRSe"
      },
      "execution_count": null,
      "outputs": []
    },
    {
      "cell_type": "code",
      "source": [
        "stopwords = [\"구매\",\"아주\",\"아이폰\",\"삼성\",'갤럭시','정말','중고','제품','상품','박스','할인','핸드폰','휴대폰','진짜','사람','정도','그냥','사용','역시','듭니','조금','애플','노트','플립','미니','프로','생각','없음','배송','쿠팡','로켓','플립',\n",
        "             '폴드','프맥','프로맥스','바로','완전','울트라','골드','시에라','블루','블랙','화이트','실버','맥스','라벤더','레드','매우','없음 ',' 없음',' 없음 ','핑크','흰색','부모님','아빠','어머니','자녀','엄마','도착','새벽','포장','금제','남편','다시',\n",
        "             '최고','고민','사은','이번','자급','핸펀','별로','산다','사지','누가','사드','별로','의미','택배','흔적','처음','관련','자꾸','에두','아버지','전자제품','오후','혼자','닌지','시리즈','개봉','드릴','개통','작년','사도','점도','채도','오늘',\n",
        "             '장사','기기','구리','후기','구입']\n",
        "\n",
        "data_word,corpus,dictionary,high_score_reviews = preprocess(df2,stopwords)"
      ],
      "metadata": {
        "colab": {
          "base_uri": "https://localhost:8080/"
        },
        "id": "TCuMTCeOUTA0",
        "outputId": "86301c87-778c-48fb-ca82-4e96e84d47ad"
      },
      "execution_count": null,
      "outputs": [
        {
          "output_type": "stream",
          "name": "stderr",
          "text": [
            " 14%|█▎        | 1360/10015 [00:14<00:25, 344.76it/s]"
          ]
        },
        {
          "output_type": "stream",
          "name": "stdout",
          "text": [
            "skip\n"
          ]
        },
        {
          "output_type": "stream",
          "name": "stderr",
          "text": [
            "100%|██████████| 10015/10015 [02:03<00:00, 81.14it/s]\n"
          ]
        }
      ]
    },
    {
      "cell_type": "code",
      "source": [
        "perplexity_values=[]\n",
        "coherence_values=[]\n",
        "for i in range(2,30):\n",
        "  ldamodel=gensim.models.ldamodel.LdaModel(corpus, num_topics=i, id2word=dictionary)\n",
        "  coherence_model_lda=CoherenceModel(model=ldamodel, texts=high_score_reviews, dictionary=dictionary,topn=10)\n",
        "  coherence_lda=coherence_model_lda.get_coherence()\n",
        "  coherence_values.append(coherence_lda)\n",
        "  perplexity_values.append(ldamodel.log_perplexity(corpus))"
      ],
      "metadata": {
        "id": "n-G9wbjuEunv"
      },
      "execution_count": null,
      "outputs": []
    },
    {
      "cell_type": "code",
      "source": [
        "x=range(2,30)\n",
        "plt.plot(x, coherence_values)\n",
        "plt.xlabel(\"number of topics\")\n",
        "plt.ylabel(\"coherence score\")\n",
        "plt.show()"
      ],
      "metadata": {
        "id": "lu4v8lZaE91G",
        "colab": {
          "base_uri": "https://localhost:8080/",
          "height": 281
        },
        "outputId": "d323e32f-0488-475b-d879-f2fcd016b341"
      },
      "execution_count": null,
      "outputs": [
        {
          "output_type": "display_data",
          "data": {
            "text/plain": [
              "<Figure size 432x288 with 1 Axes>"
            ],
            "image/png": "[encoded data removed]"
          },
          "metadata": {
            "needs_background": "light"
          }
        }
      ]
    },
    {
      "cell_type": "code",
      "source": [
        "x=range(2,30)\n",
        "plt.plot(x, coherence_values)\n",
        "plt.xlabel(\"number of topics\")\n",
        "plt.ylabel(\"coherence score\")\n",
        "plt.show()"
      ],
      "metadata": {
        "id": "vyKWXEmdFGqW",
        "colab": {
          "base_uri": "https://localhost:8080/",
          "height": 281
        },
        "outputId": "608ce798-bc60-4f07-969b-b0b176403174"
      },
      "execution_count": null,
      "outputs": [
        {
          "output_type": "display_data",
          "data": {
            "text/plain": [
              "<Figure size 432x288 with 1 Axes>"
            ],
            "image/png": "[encoded data removed]"
          },
          "metadata": {
            "needs_background": "light"
          }
        }
      ]
    },
    {
      "cell_type": "code",
      "source": [
        "coherence_values[0]"
      ],
      "metadata": {
        "colab": {
          "base_uri": "https://localhost:8080/"
        },
        "id": "ZbfJnSQIT1Fk",
        "outputId": "8be8eea8-3e2e-4e75-876e-ab913789fec7"
      },
      "execution_count": null,
      "outputs": [
        {
          "output_type": "execute_result",
          "data": {
            "text/plain": [
              "0.40729968501081215"
            ]
          },
          "metadata": {},
          "execution_count": 57
        }
      ]
    },
    {
      "cell_type": "code",
      "source": [
        "np.mean(coherence_values,axis = 0)"
      ],
      "metadata": {
        "colab": {
          "base_uri": "https://localhost:8080/"
        },
        "id": "R2QvE5IRTaZ1",
        "outputId": "3d3b53ac-97a2-4192-8ff5-33f0dc5d5756"
      },
      "execution_count": null,
      "outputs": [
        {
          "output_type": "execute_result",
          "data": {
            "text/plain": [
              "array([0.45280418, 0.47448848, 0.47548274, 0.49774947, 0.49462931,\n",
              "       0.49384672, 0.50305481, 0.50389385, 0.49305675, 0.50255997,\n",
              "       0.4881101 , 0.49598417, 0.48802796])"
            ]
          },
          "metadata": {},
          "execution_count": 28
        }
      ]
    },
    {
      "cell_type": "code",
      "source": [
        "x=range(2,15)\n",
        "plt.plot(x, perplexity_values[0])\n",
        "plt.xlabel(\"number of topics\")\n",
        "plt.ylabel(\"perplexity score\")\n",
        "plt.show()"
      ],
      "metadata": {
        "colab": {
          "base_uri": "https://localhost:8080/",
          "height": 279
        },
        "id": "etEnLHXn_Bcy",
        "outputId": "b84ead2d-58f9-4c90-cd57-6054a8954a60"
      },
      "execution_count": null,
      "outputs": [
        {
          "output_type": "display_data",
          "data": {
            "text/plain": [
              "<Figure size 432x288 with 1 Axes>"
            ],
            "image/png": "[encoded data removed]"
          },
          "metadata": {
            "needs_background": "light"
          }
        }
      ]
    },
    {
      "cell_type": "code",
      "source": [
        "# 선택\n",
        "ldamodel=gensim.models.ldamodel.LdaModel(corpus, num_topics=14, id2word=dictionary)\n",
        "coherence_model_lda=CoherenceModel(model=ldamodel, texts=high_score_reviews, dictionary=dictionary,topn=5)\n",
        "coherence_lda=coherence_model_lda.get_coherence()\n",
        "#coherence_values.append(coherence_lda)\n",
        "ldamodel.print_topics(num_words=20)\n"
      ],
      "metadata": {
        "colab": {
          "base_uri": "https://localhost:8080/"
        },
        "id": "l5kc4vPeFnkV",
        "outputId": "83ab62f6-f119-45e7-bd88-6fcd4d8b1141"
      },
      "execution_count": null,
      "outputs": [
        {
          "output_type": "execute_result",
          "data": {
            "text/plain": [
              "[(0,\n",
              "  '0.020*\"요금\" + 0.014*\"버즈\" + 0.014*\"색상\" + 0.013*\"신청\" + 0.011*\"약정\" + 0.011*\"혜택\" + 0.011*\"가격\" + 0.010*\"카드\" + 0.010*\"제로\" + 0.009*\"선택\" + 0.009*\"기본\" + 0.009*\"데이터\" + 0.009*\"조건\" + 0.008*\"지원\" + 0.008*\"추천\" + 0.008*\"변경\" + 0.008*\"서비스\" + 0.008*\"이자\" + 0.007*\"추가\" + 0.007*\"사전예약\"'),\n",
              " (1,\n",
              "  '0.055*\"신뢰\" + 0.052*\"양심\" + 0.021*\"보급\" + 0.017*\"케이스\" + 0.013*\"가격\" + 0.013*\"고장\" + 0.011*\"화면\" + 0.009*\"색상\" + 0.009*\"플라스틱\" + 0.009*\"필름\" + 0.009*\"기분\" + 0.009*\"터치\" + 0.009*\"무게\" + 0.008*\"유심\" + 0.008*\"보호\" + 0.008*\"게속\" + 0.008*\"샤워\" + 0.007*\"추천\" + 0.007*\"제일\" + 0.007*\"선물\"'),\n",
              " (2,\n",
              "  '0.048*\"연결\" + 0.041*\"다음\" + 0.037*\"종일\" + 0.036*\"영상통화\" + 0.030*\"대리점\" + 0.028*\"이어폰\" + 0.028*\"품질\" + 0.016*\"사진\" + 0.013*\"한번\" + 0.012*\"통신사\" + 0.010*\"어플\" + 0.010*\"설명\" + 0.009*\"카드\" + 0.009*\"충전\" + 0.008*\"크림\" + 0.008*\"엣지\" + 0.008*\"가격\" + 0.008*\"기능\" + 0.007*\"유심\" + 0.007*\"계속\"'),\n",
              " (3,\n",
              "  '0.055*\"가입\" + 0.054*\"불량\" + 0.037*\"상태\" + 0.030*\"상자\" + 0.028*\"완충제\" + 0.027*\"습기\" + 0.027*\"미사\" + 0.027*\"우롱\" + 0.027*\"거폰\" + 0.025*\"주문\" + 0.019*\"고장\" + 0.018*\"소비자\" + 0.017*\"케어\" + 0.016*\"불구\" + 0.015*\"교환\" + 0.013*\"서비스\" + 0.013*\"이후\" + 0.010*\"확인\" + 0.010*\"센터\" + 0.009*\"문제\"'),\n",
              " (4,\n",
              "  '0.041*\"화질\" + 0.039*\"화면\" + 0.038*\"썻는데\" + 0.034*\"말리\" + 0.033*\"균형\" + 0.027*\"디스플레이\" + 0.021*\"정품\" + 0.018*\"한번\" + 0.015*\"성능\" + 0.014*\"색상\" + 0.013*\"배터리\" + 0.011*\"카메라\" + 0.009*\"터치\" + 0.009*\"디자인\" + 0.009*\"전체\" + 0.008*\"충전기\" + 0.008*\"발열\" + 0.007*\"용량\" + 0.007*\"하루\" + 0.007*\"그린\"'),\n",
              " (5,\n",
              "  '0.060*\"다른사람\" + 0.052*\"충전기\" + 0.051*\"고장\" + 0.026*\"추천\" + 0.025*\"한번\" + 0.022*\"정품\" + 0.012*\"사진\" + 0.011*\"가격\" + 0.010*\"하나\" + 0.009*\"발열\" + 0.009*\"성능\" + 0.009*\"플러스\" + 0.009*\"비닐\" + 0.008*\"실망\" + 0.007*\"이어폰\" + 0.006*\"색상\" + 0.006*\"화면\" + 0.006*\"쓰기\" + 0.006*\"실물\" + 0.006*\"갑자기\"'),\n",
              " (6,\n",
              "  '0.055*\"액정\" + 0.036*\"화면\" + 0.029*\"단자\" + 0.029*\"갑자기\" + 0.028*\"지도\" + 0.028*\"무슨\" + 0.028*\"산지\" + 0.027*\"색상\" + 0.027*\"터치\" + 0.027*\"절대\" + 0.021*\"샤워\" + 0.021*\"게속\" + 0.020*\"충전\" + 0.017*\"사진\" + 0.012*\"추천\" + 0.009*\"이어폰\" + 0.008*\"교환\" + 0.008*\"연결\" + 0.008*\"배터리\" + 0.006*\"카메라\"'),\n",
              " (7,\n",
              "  '0.055*\"화면\" + 0.034*\"기능\" + 0.034*\"발열\" + 0.029*\"성능\" + 0.025*\"자동\" + 0.024*\"가방\" + 0.024*\"아무\" + 0.023*\"적응\" + 0.023*\"크게\" + 0.022*\"불편\" + 0.021*\"배터리\" + 0.020*\"전체\" + 0.020*\"카메라\" + 0.017*\"사진\" + 0.014*\"충전\" + 0.013*\"터치\" + 0.012*\"디스플레이\" + 0.011*\"문제\" + 0.010*\"액정\" + 0.009*\"하루\"'),\n",
              " (8,\n",
              "  '0.049*\"전화\" + 0.028*\"센터\" + 0.025*\"문제\" + 0.022*\"수리\" + 0.019*\"서비스\" + 0.019*\"문자\" + 0.017*\"대한\" + 0.016*\"고장\" + 0.016*\"카메라\" + 0.016*\"발열\" + 0.014*\"교환\" + 0.012*\"케이스\" + 0.010*\"필름\" + 0.010*\"유심\" + 0.010*\"한번\" + 0.009*\"고객\" + 0.008*\"가격\" + 0.007*\"쿠폰\" + 0.007*\"배터리\" + 0.006*\"살걸\"'),\n",
              " (9,\n",
              "  '0.032*\"기분\" + 0.030*\"용이\" + 0.030*\"다이소\" + 0.029*\"분명\" + 0.024*\"이어폰\" + 0.023*\"가격\" + 0.021*\"살걸\" + 0.014*\"주문\" + 0.014*\"화면\" + 0.012*\"소비자\" + 0.012*\"한번\" + 0.011*\"연결\" + 0.010*\"고장\" + 0.010*\"배터리\" + 0.010*\"충전기\" + 0.009*\"불구\" + 0.009*\"이후\" + 0.008*\"카드\" + 0.007*\"문제\" + 0.005*\"느낌\"'),\n",
              " (10,\n",
              "  '0.041*\"선물\" + 0.012*\"디자인\" + 0.010*\"가격\" + 0.010*\"선택\" + 0.010*\"하나\" + 0.010*\"설치\" + 0.009*\"단말\" + 0.009*\"주문\" + 0.009*\"페이\" + 0.009*\"기능\" + 0.009*\"카메라\" + 0.009*\"화면\" + 0.008*\"인식\" + 0.008*\"케이스\" + 0.007*\"부분\" + 0.007*\"성능\" + 0.006*\"편이\" + 0.006*\"터치\" + 0.005*\"아이\" + 0.005*\"결제\"'),\n",
              " (11,\n",
              "  '0.054*\"화면비\" + 0.054*\"예정\" + 0.053*\"안심\" + 0.031*\"하루\" + 0.023*\"만족\" + 0.015*\"터치\" + 0.014*\"마음\" + 0.012*\"카드\" + 0.012*\"성능\" + 0.012*\"페이\" + 0.011*\"기능\" + 0.010*\"화면\" + 0.009*\"통화\" + 0.009*\"가격\" + 0.009*\"게임\" + 0.008*\"케어\" + 0.007*\"배터리\" + 0.007*\"진동\" + 0.007*\"금방\" + 0.007*\"녹음\"'),\n",
              " (12,\n",
              "  '0.053*\"스마트폰\" + 0.027*\"가성\" + 0.012*\"전자\" + 0.012*\"카드\" + 0.011*\"모델\" + 0.010*\"사진\" + 0.010*\"화면\" + 0.009*\"크기\" + 0.008*\"버스\" + 0.008*\"가격\" + 0.008*\"만족\" + 0.008*\"성능\" + 0.007*\"카메라\" + 0.007*\"일단\" + 0.006*\"대한\" + 0.006*\"디자인\" + 0.006*\"케이스\" + 0.006*\"무게\" + 0.005*\"즉시\" + 0.005*\"배터리\"'),\n",
              " (13,\n",
              "  '0.050*\"이름\" + 0.049*\"오전\" + 0.049*\"표기\" + 0.035*\"판정\" + 0.018*\"사전예약\" + 0.017*\"문자\" + 0.011*\"느낌\" + 0.010*\"효도\" + 0.008*\"혜택\" + 0.008*\"전화\" + 0.007*\"사진\" + 0.007*\"불량\" + 0.007*\"색상\" + 0.007*\"분실\" + 0.007*\"크게\" + 0.006*\"예약\" + 0.006*\"일찍\" + 0.006*\"기존\" + 0.006*\"어플\" + 0.006*\"신랑\"')]"
            ]
          },
          "metadata": {},
          "execution_count": 61
        }
      ]
    },
    {
      "cell_type": "code",
      "source": [
        "ldamodel=gensim.models.ldamodel.LdaModel(corpus, num_topics=5, id2word=dictionary)\n",
        "coherence_model_lda=CoherenceModel(model=ldamodel, texts=high_score_reviews, dictionary=dictionary,topn=9)\n",
        "coherence_lda=coherence_model_lda.get_coherence()\n",
        "coherence_values.append(coherence_lda)"
      ],
      "metadata": {
        "id": "p8GT1q7SHqaY"
      },
      "execution_count": null,
      "outputs": []
    },
    {
      "cell_type": "code",
      "source": [
        "def format_topics_sentences(ldamodel=ldamodel, corpus=corpus, texts=data_word):\n",
        "\n",
        "  # Init output\n",
        "  sent_topics_df = pd.DataFrame()\n",
        "\n",
        "  # Get main topic in each document\n",
        "  for i, row in enumerate(ldamodel[corpus]):\n",
        "      row = sorted(row, key=lambda x: (x[1]), reverse=True)\n",
        "      # Get the Dominant topic, Perc Contribution and Keywords for each document\n",
        "      for j, (topic_num, prop_topic) in enumerate(row):\n",
        "          if j == 0:  # => dominant topic\n",
        "              wp = ldamodel.show_topic(topic_num)\n",
        "              topic_keywords = \", \".join([word for word, prop in wp])\n",
        "              sent_topics_df = sent_topics_df.append(pd.Series([int(topic_num), round(prop_topic,4), topic_keywords]), ignore_index=True)\n",
        "          else:\n",
        "              break\n",
        "  sent_topics_df.columns = ['Dominant_Topic', 'Perc_Contribution', 'Topic_Keywords']\n",
        "\n",
        "  # Add original text to the end of the output\n",
        "  contents = pd.Series(texts)\n",
        "  sent_topics_df = pd.concat([sent_topics_df, contents], axis=1)\n",
        "  return(sent_topics_df)\n",
        "\n",
        "\n",
        "df_topic_sents_keywords = format_topics_sentences(ldamodel=ldamodel, corpus=corpus, texts=data_word)\n",
        "\n",
        "# Format\n",
        "df_dominant_topic = df_topic_sents_keywords.reset_index()\n",
        "df_dominant_topic.columns = ['Document_No', 'Dominant_Topic', 'Topic_Perc_Contrib', 'Keywords', 'Text']\n",
        "\n",
        "# Show\n",
        "df_dominant_topic.head(10)"
      ],
      "metadata": {
        "colab": {
          "base_uri": "https://localhost:8080/",
          "height": 363
        },
        "id": "F9RclCrww-5S",
        "outputId": "3be3e011-ec80-4d0f-d720-6b71333a74a0"
      },
      "execution_count": null,
      "outputs": [
        {
          "output_type": "execute_result",
          "data": {
            "text/plain": [
              "   Document_No  Dominant_Topic  Topic_Perc_Contrib  \\\n",
              "0            0             3.0              0.9596   \n",
              "1            1             3.0              0.7906   \n",
              "2            2             3.0              0.8281   \n",
              "3            3             6.0              0.9671   \n",
              "4            4             0.0              0.7105   \n",
              "5            5             0.0              0.6560   \n",
              "6            6             1.0              0.5317   \n",
              "7            7             5.0              0.6096   \n",
              "8            8             8.0              0.9682   \n",
              "9            9             6.0              0.6960   \n",
              "\n",
              "                                     Keywords  \\\n",
              "0   구매, 가격, 가성, 성능, 디자인, 만족, 아이폰, 제품, 사용, 갤럭시   \n",
              "1   구매, 가격, 가성, 성능, 디자인, 만족, 아이폰, 제품, 사용, 갤럭시   \n",
              "2   구매, 가격, 가성, 성능, 디자인, 만족, 아이폰, 제품, 사용, 갤럭시   \n",
              "3  카메라, 사용, 갤럭시, 기능, 발열, 아이폰, 배터리, 성능, 사진, 정말   \n",
              "4    아이폰, 배터리, 사용, 아주, 생각, 역시, 구매, 최고, 애플, 화면   \n",
              "5    아이폰, 배터리, 사용, 아주, 생각, 역시, 구매, 최고, 애플, 화면   \n",
              "6      배송, 제품, 상품, 포장, 구매, 박스, 쿠팡, 사용, 상태, 도착   \n",
              "7     사진, 생각, 화면, 색상, 구매, 그냥, 고민, 정도, 배송, 카메라   \n",
              "8    사용, 할인, 구매, 구입, 쿠팡, 자급, 아이폰, 카드, 가격, 핸드폰   \n",
              "9  카메라, 사용, 갤럭시, 기능, 발열, 아이폰, 배터리, 성능, 사진, 정말   \n",
              "\n",
              "                                                Text  \n",
              "0  [서울, 기지역, 구매, 만, 하루, 총알, 배송, 만족, 제품, 개봉, 하자, 부...  \n",
              "1  [하루, 도착, 배송, 굿, 기존, 핸펀, 메이, 보드, 고장, 수리, 구입, 기존...  \n",
              "2  [아들, 휴대폰, 액정, 검색, 종이, 블루, 색, 주문, 색도, 제일, 삼성, 페...  \n",
              "3  [이, 가격, 걸, 논, 일단, 인물사진, 삼성, 페이도, 오, 처음, 뭔가, 살짝...  \n",
              "4  [서브, 폰, 걸, 구매, 스펙, 그닥, 중요, 치가, 디자인, 보고, 구매, 제,...  \n",
              "5  [아이폰, 세컨폰, 회사, 전화, 문자, 카톡, 유튜브, 용도, 구입, 거, 이, ...  \n",
              "6  [배송, 가격, 보호, 필름, 기본, 투명, 젤리, 케이스, 핸드폰, 주네, 충전기...  \n",
              "7  [실제, 색상, 아크릴, 톡, 페인트, 거마, 채도, 하늘색, 임, 서브, 폰, 려...  \n",
              "8  [가격, 품질, 그, 비례, 함, 가성, 비, 인정, 추후, 발생, 비용, 포함, ...  \n",
              "9  [가격, 폰, 좋숩니, 삼페, 아몰레드, 크게, 신경, 오히려, 번인, 걱정, 다만...  "
            ],
            "text/html": [
              "\n",
              "  <div id=\"df-32ee8a00-d916-4d7f-b289-eaa709ad7fbe\">\n",
              "    <div class=\"colab-df-container\">\n",
              "      <div>\n",
              "<style scoped>\n",
              "    .dataframe tbody tr th:only-of-type {\n",
              "        vertical-align: middle;\n",
              "    }\n",
              "\n",
              "    .dataframe tbody tr th {\n",
              "        vertical-align: top;\n",
              "    }\n",
              "\n",
              "    .dataframe thead th {\n",
              "        text-align: right;\n",
              "    }\n",
              "</style>\n",
              "<table border=\"1\" class=\"dataframe\">\n",
              "  <thead>\n",
              "    <tr style=\"text-align: right;\">\n",
              "      <th></th>\n",
              "      <th>Document_No</th>\n",
              "      <th>Dominant_Topic</th>\n",
              "      <th>Topic_Perc_Contrib</th>\n",
              "      <th>Keywords</th>\n",
              "      <th>Text</th>\n",
              "    </tr>\n",
              "  </thead>\n",
              "  <tbody>\n",
              "    <tr>\n",
              "      <th>0</th>\n",
              "      <td>0</td>\n",
              "      <td>3.0</td>\n",
              "      <td>0.9596</td>\n",
              "      <td>구매, 가격, 가성, 성능, 디자인, 만족, 아이폰, 제품, 사용, 갤럭시</td>\n",
              "      <td>[서울, 기지역, 구매, 만, 하루, 총알, 배송, 만족, 제품, 개봉, 하자, 부...</td>\n",
              "    </tr>\n",
              "    <tr>\n",
              "      <th>1</th>\n",
              "      <td>1</td>\n",
              "      <td>3.0</td>\n",
              "      <td>0.7906</td>\n",
              "      <td>구매, 가격, 가성, 성능, 디자인, 만족, 아이폰, 제품, 사용, 갤럭시</td>\n",
              "      <td>[하루, 도착, 배송, 굿, 기존, 핸펀, 메이, 보드, 고장, 수리, 구입, 기존...</td>\n",
              "    </tr>\n",
              "    <tr>\n",
              "      <th>2</th>\n",
              "      <td>2</td>\n",
              "      <td>3.0</td>\n",
              "      <td>0.8281</td>\n",
              "      <td>구매, 가격, 가성, 성능, 디자인, 만족, 아이폰, 제품, 사용, 갤럭시</td>\n",
              "      <td>[아들, 휴대폰, 액정, 검색, 종이, 블루, 색, 주문, 색도, 제일, 삼성, 페...</td>\n",
              "    </tr>\n",
              "    <tr>\n",
              "      <th>3</th>\n",
              "      <td>3</td>\n",
              "      <td>6.0</td>\n",
              "      <td>0.9671</td>\n",
              "      <td>카메라, 사용, 갤럭시, 기능, 발열, 아이폰, 배터리, 성능, 사진, 정말</td>\n",
              "      <td>[이, 가격, 걸, 논, 일단, 인물사진, 삼성, 페이도, 오, 처음, 뭔가, 살짝...</td>\n",
              "    </tr>\n",
              "    <tr>\n",
              "      <th>4</th>\n",
              "      <td>4</td>\n",
              "      <td>0.0</td>\n",
              "      <td>0.7105</td>\n",
              "      <td>아이폰, 배터리, 사용, 아주, 생각, 역시, 구매, 최고, 애플, 화면</td>\n",
              "      <td>[서브, 폰, 걸, 구매, 스펙, 그닥, 중요, 치가, 디자인, 보고, 구매, 제,...</td>\n",
              "    </tr>\n",
              "    <tr>\n",
              "      <th>5</th>\n",
              "      <td>5</td>\n",
              "      <td>0.0</td>\n",
              "      <td>0.6560</td>\n",
              "      <td>아이폰, 배터리, 사용, 아주, 생각, 역시, 구매, 최고, 애플, 화면</td>\n",
              "      <td>[아이폰, 세컨폰, 회사, 전화, 문자, 카톡, 유튜브, 용도, 구입, 거, 이, ...</td>\n",
              "    </tr>\n",
              "    <tr>\n",
              "      <th>6</th>\n",
              "      <td>6</td>\n",
              "      <td>1.0</td>\n",
              "      <td>0.5317</td>\n",
              "      <td>배송, 제품, 상품, 포장, 구매, 박스, 쿠팡, 사용, 상태, 도착</td>\n",
              "      <td>[배송, 가격, 보호, 필름, 기본, 투명, 젤리, 케이스, 핸드폰, 주네, 충전기...</td>\n",
              "    </tr>\n",
              "    <tr>\n",
              "      <th>7</th>\n",
              "      <td>7</td>\n",
              "      <td>5.0</td>\n",
              "      <td>0.6096</td>\n",
              "      <td>사진, 생각, 화면, 색상, 구매, 그냥, 고민, 정도, 배송, 카메라</td>\n",
              "      <td>[실제, 색상, 아크릴, 톡, 페인트, 거마, 채도, 하늘색, 임, 서브, 폰, 려...</td>\n",
              "    </tr>\n",
              "    <tr>\n",
              "      <th>8</th>\n",
              "      <td>8</td>\n",
              "      <td>8.0</td>\n",
              "      <td>0.9682</td>\n",
              "      <td>사용, 할인, 구매, 구입, 쿠팡, 자급, 아이폰, 카드, 가격, 핸드폰</td>\n",
              "      <td>[가격, 품질, 그, 비례, 함, 가성, 비, 인정, 추후, 발생, 비용, 포함, ...</td>\n",
              "    </tr>\n",
              "    <tr>\n",
              "      <th>9</th>\n",
              "      <td>9</td>\n",
              "      <td>6.0</td>\n",
              "      <td>0.6960</td>\n",
              "      <td>카메라, 사용, 갤럭시, 기능, 발열, 아이폰, 배터리, 성능, 사진, 정말</td>\n",
              "      <td>[가격, 폰, 좋숩니, 삼페, 아몰레드, 크게, 신경, 오히려, 번인, 걱정, 다만...</td>\n",
              "    </tr>\n",
              "  </tbody>\n",
              "</table>\n",
              "</div>\n",
              "      <button class=\"colab-df-convert\" onclick=\"convertToInteractive('df-32ee8a00-d916-4d7f-b289-eaa709ad7fbe')\"\n",
              "              title=\"Convert this dataframe to an interactive table.\"\n",
              "              style=\"display:none;\">\n",
              "        \n",
              "  <svg xmlns=\"http://www.w3.org/2000/svg\" height=\"24px\"viewBox=\"0 0 24 24\"\n",
              "       width=\"24px\">\n",
              "    <path d=\"M0 0h24v24H0V0z\" fill=\"none\"/>\n",
              "    <path d=\"M18.56 5.44l.94 2.06.94-2.06 2.06-.94-2.06-.94-.94-2.06-.94 2.06-2.06.94zm-11 1L8.5 8.5l.94-2.06 2.06-.94-2.06-.94L8.5 2.5l-.94 2.06-2.06.94zm10 10l.94 2.06.94-2.06 2.06-.94-2.06-.94-.94-2.06-.94 2.06-2.06.94z\"/><path d=\"M17.41 7.96l-1.37-1.37c-.4-.4-.92-.59-1.43-.59-.52 0-1.04.2-1.43.59L10.3 9.45l-7.72 7.72c-.78.78-.78 2.05 0 2.83L4 21.41c.39.39.9.59 1.41.59.51 0 1.02-.2 1.41-.59l7.78-7.78 2.81-2.81c.8-.78.8-2.07 0-2.86zM5.41 20L4 18.59l7.72-7.72 1.47 1.35L5.41 20z\"/>\n",
              "  </svg>\n",
              "      </button>\n",
              "      \n",
              "  <style>\n",
              "    .colab-df-container {\n",
              "      display:flex;\n",
              "      flex-wrap:wrap;\n",
              "      gap: 12px;\n",
              "    }\n",
              "\n",
              "    .colab-df-convert {\n",
              "      background-color: #E8F0FE;\n",
              "      border: none;\n",
              "      border-radius: 50%;\n",
              "      cursor: pointer;\n",
              "      display: none;\n",
              "      fill: #1967D2;\n",
              "      height: 32px;\n",
              "      padding: 0 0 0 0;\n",
              "      width: 32px;\n",
              "    }\n",
              "\n",
              "    .colab-df-convert:hover {\n",
              "      background-color: #E2EBFA;\n",
              "      box-shadow: 0px 1px 2px rgba(60, 64, 67, 0.3), 0px 1px 3px 1px rgba(60, 64, 67, 0.15);\n",
              "      fill: #174EA6;\n",
              "    }\n",
              "\n",
              "    [theme=dark] .colab-df-convert {\n",
              "      background-color: #3B4455;\n",
              "      fill: #D2E3FC;\n",
              "    }\n",
              "\n",
              "    [theme=dark] .colab-df-convert:hover {\n",
              "      background-color: #434B5C;\n",
              "      box-shadow: 0px 1px 3px 1px rgba(0, 0, 0, 0.15);\n",
              "      filter: drop-shadow(0px 1px 2px rgba(0, 0, 0, 0.3));\n",
              "      fill: #FFFFFF;\n",
              "    }\n",
              "  </style>\n",
              "\n",
              "      <script>\n",
              "        const buttonEl =\n",
              "          document.querySelector('#df-32ee8a00-d916-4d7f-b289-eaa709ad7fbe button.colab-df-convert');\n",
              "        buttonEl.style.display =\n",
              "          google.colab.kernel.accessAllowed ? 'block' : 'none';\n",
              "\n",
              "        async function convertToInteractive(key) {\n",
              "          const element = document.querySelector('#df-32ee8a00-d916-4d7f-b289-eaa709ad7fbe');\n",
              "          const dataTable =\n",
              "            await google.colab.kernel.invokeFunction('convertToInteractive',\n",
              "                                                     [key], {});\n",
              "          if (!dataTable) return;\n",
              "\n",
              "          const docLinkHtml = 'Like what you see? Visit the ' +\n",
              "            '<a target=\"_blank\" href=https://colab.research.google.com/notebooks/data_table.ipynb>data table notebook</a>'\n",
              "            + ' to learn more about interactive tables.';\n",
              "          element.innerHTML = '';\n",
              "          dataTable['output_type'] = 'display_data';\n",
              "          await google.colab.output.renderOutput(dataTable, element);\n",
              "          const docLink = document.createElement('div');\n",
              "          docLink.innerHTML = docLinkHtml;\n",
              "          element.appendChild(docLink);\n",
              "        }\n",
              "      </script>\n",
              "    </div>\n",
              "  </div>\n",
              "  "
            ]
          },
          "metadata": {},
          "execution_count": 40
        }
      ]
    },
    {
      "cell_type": "code",
      "source": [
        "df_dominant_topic.to_csv(\"topic_modeling_result.csv\",index=False)"
      ],
      "metadata": {
        "id": "yzVIv2CnzTyR"
      },
      "execution_count": null,
      "outputs": []
    },
    {
      "cell_type": "code",
      "source": [
        ""
      ],
      "metadata": {
        "id": "xzrvO9PwGRLm"
      },
      "execution_count": null,
      "outputs": []
    },
    {
      "cell_type": "markdown",
      "source": [
        "# 2. 상품별 토픽 모델링 진행\n"
      ],
      "metadata": {
        "id": "FRhl9okQZ6w9"
      }
    },
    {
      "cell_type": "code",
      "source": [
        "df_samsung = df2[df2['제조회사']== '삼성전자']\n",
        "df_apple = df2[df2['제조회사']== 'Apple']"
      ],
      "metadata": {
        "id": "NbqcpU8GasFb"
      },
      "execution_count": null,
      "outputs": []
    },
    {
      "cell_type": "code",
      "source": [
        "df_samsung.reset_index(inplace =True)"
      ],
      "metadata": {
        "id": "aoYWAL7rV2my"
      },
      "execution_count": null,
      "outputs": []
    },
    {
      "cell_type": "markdown",
      "source": [
        ""
      ],
      "metadata": {
        "id": "VvTtv2n8VuFN"
      }
    },
    {
      "cell_type": "code",
      "source": [
        "df_samsung"
      ],
      "metadata": {
        "colab": {
          "base_uri": "https://localhost:8080/",
          "height": 423
        },
        "id": "s078GCaoawh8",
        "outputId": "39d91427-02ce-4f70-92a5-ecf586f66fa5"
      },
      "execution_count": null,
      "outputs": [
        {
          "output_type": "execute_result",
          "data": {
            "text/plain": [
              "      index  제조회사  별점                                                상품평\n",
              "0      5228  삼성전자   5  서울 경기지역이 아닌데도 구매하고 만 하루만에 총알배송에 만족 제품도 개봉이나 하자...\n",
              "1      5229  삼성전자   5  주문하루만에 도착 빠른 배송 굿    기존에 쓰던 핸펀 메이보드고장이라고 수리하느니...\n",
              "2      5230  삼성전자   5  아들 오래된 휴대폰 액정이 깨져서 급하게 검색했더니 a23기종이 보이네요   블루색...\n",
              "3      5231  삼성전자   5  이 가격에 다른걸 논하는건 웃긴것 같아요  일단 의외로 인물사진 되서 놀라웠고 삼성...\n",
              "4      5232  삼성전자   5  서브폰이 급히 필요해서 이걸로 구매했어요 스펙은 그닥 중요치가 않아서 디자인만 보고...\n",
              "...     ...   ...  ..                                                ...\n",
              "4782  10010  삼성전자   1    핸펀에 렉이 자꾸 걸려요  자동이로 화면 꺼질 때 까지 기다려야되요  핸펀  후졌어요\n",
              "4783  10011  삼성전자   1  절대 이거 사지마세요 산지 두달만에 갑자기 지혼자 뜨거워지도니 꺼지고 터치 안먹는데...\n",
              "4784  10012  삼성전자   1          충전기 정품아닙니다 한번 썻는데 고장이네요 다이소에서 사도 이것보단 나을듯\n",
              "4785  10013  삼성전자   1                                            별점도 아까움\n",
              "4786  10014  삼성전자   1                   오전에 개통전화  못받아서 문자오더니 오후에 전화 준다더니\n",
              "\n",
              "[4787 rows x 4 columns]"
            ],
            "text/html": [
              "\n",
              "  <div id=\"df-5254a0d0-9f5e-49f6-94fc-ac587a78d79b\">\n",
              "    <div class=\"colab-df-container\">\n",
              "      <div>\n",
              "<style scoped>\n",
              "    .dataframe tbody tr th:only-of-type {\n",
              "        vertical-align: middle;\n",
              "    }\n",
              "\n",
              "    .dataframe tbody tr th {\n",
              "        vertical-align: top;\n",
              "    }\n",
              "\n",
              "    .dataframe thead th {\n",
              "        text-align: right;\n",
              "    }\n",
              "</style>\n",
              "<table border=\"1\" class=\"dataframe\">\n",
              "  <thead>\n",
              "    <tr style=\"text-align: right;\">\n",
              "      <th></th>\n",
              "      <th>index</th>\n",
              "      <th>제조회사</th>\n",
              "      <th>별점</th>\n",
              "      <th>상품평</th>\n",
              "    </tr>\n",
              "  </thead>\n",
              "  <tbody>\n",
              "    <tr>\n",
              "      <th>0</th>\n",
              "      <td>5228</td>\n",
              "      <td>삼성전자</td>\n",
              "      <td>5</td>\n",
              "      <td>서울 경기지역이 아닌데도 구매하고 만 하루만에 총알배송에 만족 제품도 개봉이나 하자...</td>\n",
              "    </tr>\n",
              "    <tr>\n",
              "      <th>1</th>\n",
              "      <td>5229</td>\n",
              "      <td>삼성전자</td>\n",
              "      <td>5</td>\n",
              "      <td>주문하루만에 도착 빠른 배송 굿    기존에 쓰던 핸펀 메이보드고장이라고 수리하느니...</td>\n",
              "    </tr>\n",
              "    <tr>\n",
              "      <th>2</th>\n",
              "      <td>5230</td>\n",
              "      <td>삼성전자</td>\n",
              "      <td>5</td>\n",
              "      <td>아들 오래된 휴대폰 액정이 깨져서 급하게 검색했더니 a23기종이 보이네요   블루색...</td>\n",
              "    </tr>\n",
              "    <tr>\n",
              "      <th>3</th>\n",
              "      <td>5231</td>\n",
              "      <td>삼성전자</td>\n",
              "      <td>5</td>\n",
              "      <td>이 가격에 다른걸 논하는건 웃긴것 같아요  일단 의외로 인물사진 되서 놀라웠고 삼성...</td>\n",
              "    </tr>\n",
              "    <tr>\n",
              "      <th>4</th>\n",
              "      <td>5232</td>\n",
              "      <td>삼성전자</td>\n",
              "      <td>5</td>\n",
              "      <td>서브폰이 급히 필요해서 이걸로 구매했어요 스펙은 그닥 중요치가 않아서 디자인만 보고...</td>\n",
              "    </tr>\n",
              "    <tr>\n",
              "      <th>...</th>\n",
              "      <td>...</td>\n",
              "      <td>...</td>\n",
              "      <td>...</td>\n",
              "      <td>...</td>\n",
              "    </tr>\n",
              "    <tr>\n",
              "      <th>4782</th>\n",
              "      <td>10010</td>\n",
              "      <td>삼성전자</td>\n",
              "      <td>1</td>\n",
              "      <td>핸펀에 렉이 자꾸 걸려요  자동이로 화면 꺼질 때 까지 기다려야되요  핸펀  후졌어요</td>\n",
              "    </tr>\n",
              "    <tr>\n",
              "      <th>4783</th>\n",
              "      <td>10011</td>\n",
              "      <td>삼성전자</td>\n",
              "      <td>1</td>\n",
              "      <td>절대 이거 사지마세요 산지 두달만에 갑자기 지혼자 뜨거워지도니 꺼지고 터치 안먹는데...</td>\n",
              "    </tr>\n",
              "    <tr>\n",
              "      <th>4784</th>\n",
              "      <td>10012</td>\n",
              "      <td>삼성전자</td>\n",
              "      <td>1</td>\n",
              "      <td>충전기 정품아닙니다 한번 썻는데 고장이네요 다이소에서 사도 이것보단 나을듯</td>\n",
              "    </tr>\n",
              "    <tr>\n",
              "      <th>4785</th>\n",
              "      <td>10013</td>\n",
              "      <td>삼성전자</td>\n",
              "      <td>1</td>\n",
              "      <td>별점도 아까움</td>\n",
              "    </tr>\n",
              "    <tr>\n",
              "      <th>4786</th>\n",
              "      <td>10014</td>\n",
              "      <td>삼성전자</td>\n",
              "      <td>1</td>\n",
              "      <td>오전에 개통전화  못받아서 문자오더니 오후에 전화 준다더니</td>\n",
              "    </tr>\n",
              "  </tbody>\n",
              "</table>\n",
              "<p>4787 rows × 4 columns</p>\n",
              "</div>\n",
              "      <button class=\"colab-df-convert\" onclick=\"convertToInteractive('df-5254a0d0-9f5e-49f6-94fc-ac587a78d79b')\"\n",
              "              title=\"Convert this dataframe to an interactive table.\"\n",
              "              style=\"display:none;\">\n",
              "        \n",
              "  <svg xmlns=\"http://www.w3.org/2000/svg\" height=\"24px\"viewBox=\"0 0 24 24\"\n",
              "       width=\"24px\">\n",
              "    <path d=\"M0 0h24v24H0V0z\" fill=\"none\"/>\n",
              "    <path d=\"M18.56 5.44l.94 2.06.94-2.06 2.06-.94-2.06-.94-.94-2.06-.94 2.06-2.06.94zm-11 1L8.5 8.5l.94-2.06 2.06-.94-2.06-.94L8.5 2.5l-.94 2.06-2.06.94zm10 10l.94 2.06.94-2.06 2.06-.94-2.06-.94-.94-2.06-.94 2.06-2.06.94z\"/><path d=\"M17.41 7.96l-1.37-1.37c-.4-.4-.92-.59-1.43-.59-.52 0-1.04.2-1.43.59L10.3 9.45l-7.72 7.72c-.78.78-.78 2.05 0 2.83L4 21.41c.39.39.9.59 1.41.59.51 0 1.02-.2 1.41-.59l7.78-7.78 2.81-2.81c.8-.78.8-2.07 0-2.86zM5.41 20L4 18.59l7.72-7.72 1.47 1.35L5.41 20z\"/>\n",
              "  </svg>\n",
              "      </button>\n",
              "      \n",
              "  <style>\n",
              "    .colab-df-container {\n",
              "      display:flex;\n",
              "      flex-wrap:wrap;\n",
              "      gap: 12px;\n",
              "    }\n",
              "\n",
              "    .colab-df-convert {\n",
              "      background-color: #E8F0FE;\n",
              "      border: none;\n",
              "      border-radius: 50%;\n",
              "      cursor: pointer;\n",
              "      display: none;\n",
              "      fill: #1967D2;\n",
              "      height: 32px;\n",
              "      padding: 0 0 0 0;\n",
              "      width: 32px;\n",
              "    }\n",
              "\n",
              "    .colab-df-convert:hover {\n",
              "      background-color: #E2EBFA;\n",
              "      box-shadow: 0px 1px 2px rgba(60, 64, 67, 0.3), 0px 1px 3px 1px rgba(60, 64, 67, 0.15);\n",
              "      fill: #174EA6;\n",
              "    }\n",
              "\n",
              "    [theme=dark] .colab-df-convert {\n",
              "      background-color: #3B4455;\n",
              "      fill: #D2E3FC;\n",
              "    }\n",
              "\n",
              "    [theme=dark] .colab-df-convert:hover {\n",
              "      background-color: #434B5C;\n",
              "      box-shadow: 0px 1px 3px 1px rgba(0, 0, 0, 0.15);\n",
              "      filter: drop-shadow(0px 1px 2px rgba(0, 0, 0, 0.3));\n",
              "      fill: #FFFFFF;\n",
              "    }\n",
              "  </style>\n",
              "\n",
              "      <script>\n",
              "        const buttonEl =\n",
              "          document.querySelector('#df-5254a0d0-9f5e-49f6-94fc-ac587a78d79b button.colab-df-convert');\n",
              "        buttonEl.style.display =\n",
              "          google.colab.kernel.accessAllowed ? 'block' : 'none';\n",
              "\n",
              "        async function convertToInteractive(key) {\n",
              "          const element = document.querySelector('#df-5254a0d0-9f5e-49f6-94fc-ac587a78d79b');\n",
              "          const dataTable =\n",
              "            await google.colab.kernel.invokeFunction('convertToInteractive',\n",
              "                                                     [key], {});\n",
              "          if (!dataTable) return;\n",
              "\n",
              "          const docLinkHtml = 'Like what you see? Visit the ' +\n",
              "            '<a target=\"_blank\" href=https://colab.research.google.com/notebooks/data_table.ipynb>data table notebook</a>'\n",
              "            + ' to learn more about interactive tables.';\n",
              "          element.innerHTML = '';\n",
              "          dataTable['output_type'] = 'display_data';\n",
              "          await google.colab.output.renderOutput(dataTable, element);\n",
              "          const docLink = document.createElement('div');\n",
              "          docLink.innerHTML = docLinkHtml;\n",
              "          element.appendChild(docLink);\n",
              "        }\n",
              "      </script>\n",
              "    </div>\n",
              "  </div>\n",
              "  "
            ]
          },
          "metadata": {},
          "execution_count": 89
        }
      ]
    },
    {
      "cell_type": "code",
      "source": [
        "stopwords = [\"구매\",\"아주\",\"아이폰\",\"삼성\",'갤럭시','정말','중고','제품','상품','박스','할인','핸드폰','휴대폰','진짜','사람','정도','그냥','사용','역시','듭니','조금','애플','노트','플립','미니','프로','생각','없음','배송','쿠팡','로켓','플립',\n",
        "             '폴드','프맥','프로맥스','바로','완전','울트라','골드','시에라','블루','블랙','화이트','실버','맥스','라벤더','레드','매우','없음 ',' 없음',' 없음 ','핑크','흰색','부모님','아빠','어머니','자녀','엄마','도착','새벽','포장','금제','남편','다시',\n",
        "             '최고','고민','사은','이번','자급','핸펀','별로','산다','사지','누가','사드','별로','의미','택배','흔적','처음','관련','자꾸','에두','아버지','전자제품','오후','혼자','닌지','시리즈','개봉','드릴','개통','작년','사도','점도','채도','오늘',\n",
        "             '장사','기기','구리','후기','구입']\n",
        "data_word,corpus,dictionary,high_score_reviews = preprocess(df_samsung,stopwords)"
      ],
      "metadata": {
        "colab": {
          "base_uri": "https://localhost:8080/"
        },
        "id": "WhJbx1dEaoCP",
        "outputId": "73006cd3-7760-4414-ea0a-4693d80648df"
      },
      "execution_count": null,
      "outputs": [
        {
          "output_type": "stream",
          "name": "stderr",
          "text": [
            "100%|██████████| 4787/4787 [00:54<00:00, 88.46it/s]\n"
          ]
        }
      ]
    },
    {
      "cell_type": "code",
      "source": [
        "perplexity_values=[]\n",
        "coherence_values=[]\n",
        "for i in range(2,30):\n",
        "  ldamodel=gensim.models.ldamodel.LdaModel(corpus, num_topics=i, id2word=dictionary)\n",
        "  coherence_model_lda=CoherenceModel(model=ldamodel, texts=high_score_reviews, dictionary=dictionary,topn=10)\n",
        "  coherence_lda=coherence_model_lda.get_coherence()\n",
        "  coherence_values.append(coherence_lda)\n",
        "  perplexity_values.append(ldamodel.log_perplexity(corpus))"
      ],
      "metadata": {
        "id": "zmuuNUYqbOAn"
      },
      "execution_count": null,
      "outputs": []
    },
    {
      "cell_type": "code",
      "source": [
        "x=range(2,30)\n",
        "plt.plot(x, coherence_values)\n",
        "plt.xlabel(\"number of topics\")\n",
        "plt.ylabel(\"coherence score\")\n",
        "plt.show()"
      ],
      "metadata": {
        "colab": {
          "base_uri": "https://localhost:8080/",
          "height": 279
        },
        "id": "7nn_DiTwIAsc",
        "outputId": "cd90ee13-50ac-42c3-9d43-bfd6d5490096"
      },
      "execution_count": null,
      "outputs": [
        {
          "output_type": "display_data",
          "data": {
            "text/plain": [
              "<Figure size 432x288 with 1 Axes>"
            ],
            "image/png": "[encoded data removed]"
          },
          "metadata": {
            "needs_background": "light"
          }
        }
      ]
    },
    {
      "cell_type": "code",
      "source": [
        "ldamodel=gensim.models.ldamodel.LdaModel(corpus, num_topics=5, id2word=dictionary)\n",
        "coherence_model_lda=CoherenceModel(model=ldamodel, texts=high_score_reviews, dictionary=dictionary,topn=5)\n",
        "coherence_lda=coherence_model_lda.get_coherence()\n",
        "coherence_values.append(coherence_lda)\n",
        "ldamodel.print_topics(num_words=9)"
      ],
      "metadata": {
        "colab": {
          "base_uri": "https://localhost:8080/"
        },
        "id": "_6QtvJ3dbcPm",
        "outputId": "4370a3ab-fa58-4a61-b4b0-c83ce58a21f7"
      },
      "execution_count": null,
      "outputs": [
        {
          "output_type": "execute_result",
          "data": {
            "text/plain": [
              "[(0,\n",
              "  '0.014*\"기능\" + 0.011*\"카메라\" + 0.010*\"디자인\" + 0.008*\"화면\" + 0.008*\"신청\" + 0.008*\"성능\" + 0.007*\"배터리\" + 0.007*\"가격\" + 0.007*\"부분\"'),\n",
              " (1,\n",
              "  '0.012*\"가격\" + 0.011*\"주문\" + 0.010*\"불량\" + 0.009*\"유심\" + 0.008*\"고객\" + 0.008*\"성능\" + 0.007*\"센터\" + 0.007*\"케이스\" + 0.007*\"통화\"'),\n",
              " (2,\n",
              "  '0.014*\"문제\" + 0.010*\"센터\" + 0.010*\"선물\" + 0.009*\"가격\" + 0.009*\"확인\" + 0.008*\"상담\" + 0.008*\"유심\" + 0.008*\"교환\" + 0.008*\"시간\"'),\n",
              " (3,\n",
              "  '0.015*\"화면\" + 0.014*\"카메라\" + 0.014*\"케이스\" + 0.011*\"사진\" + 0.010*\"느낌\" + 0.009*\"사전예약\" + 0.008*\"필름\" + 0.007*\"배터리\" + 0.007*\"충전\"'),\n",
              " (4,\n",
              "  '0.020*\"배터리\" + 0.018*\"발열\" + 0.017*\"연락\" + 0.015*\"가격\" + 0.010*\"카메라\" + 0.008*\"환불\" + 0.008*\"디자인\" + 0.008*\"성능\" + 0.008*\"주문\"')]"
            ]
          },
          "metadata": {},
          "execution_count": 94
        }
      ]
    },
    {
      "cell_type": "code",
      "source": [
        ""
      ],
      "metadata": {
        "id": "tQbRNpkgbdPM"
      },
      "execution_count": null,
      "outputs": []
    },
    {
      "cell_type": "code",
      "source": [
        ""
      ],
      "metadata": {
        "id": "pT_s_7D3bdRm"
      },
      "execution_count": null,
      "outputs": []
    },
    {
      "cell_type": "code",
      "source": [
        ""
      ],
      "metadata": {
        "id": "LqoYJDSLbdU1"
      },
      "execution_count": null,
      "outputs": []
    },
    {
      "cell_type": "markdown",
      "source": [
        "# 3. 별점 별 토픽 모델링 결과"
      ],
      "metadata": {
        "id": "rLYfjyYObda4"
      }
    },
    {
      "cell_type": "code",
      "source": [
        "df_good = df2[df2['별점']== 5]\n",
        "df_soso = df2[(df2['별점']== 3) | (df2['별점'] == 4)]\n",
        "df_bad = df2[(df2['별점']== 1) | (df2['별점']== 2)]\n",
        "\n"
      ],
      "metadata": {
        "id": "bSM0msdNbhhL"
      },
      "execution_count": null,
      "outputs": []
    },
    {
      "cell_type": "code",
      "source": [
        "df_good.reset_index(inplace =True)\n",
        "df_soso.reset_index(inplace =True)\n",
        "df_bad.reset_index(inplace =True)"
      ],
      "metadata": {
        "id": "-A43N_KMZKwR"
      },
      "execution_count": null,
      "outputs": []
    },
    {
      "cell_type": "code",
      "source": [
        "df_soso"
      ],
      "metadata": {
        "colab": {
          "base_uri": "https://localhost:8080/",
          "height": 423
        },
        "id": "scb7tAsWc9TZ",
        "outputId": "e8ff0c92-a409-42ac-86a1-d7a20d369f7d"
      },
      "execution_count": null,
      "outputs": [
        {
          "output_type": "execute_result",
          "data": {
            "text/plain": [
              "      index   제조회사  별점                                                상품평\n",
              "0      4518  Apple   4  배송빠르고 좋네요 충전기랑 이어폰도 주시고 서비스 너무좋아요  그런데 실버 주문했는...\n",
              "1      4519  Apple   4  구입 모델   아이폰 SE2  프로덕트 레드  256GB   구입가격   588 0...\n",
              "2      4520  Apple   4  아이폰xs 잘쓰다가 고장나서 리퍼받아야하는데 비용이80만원       그래서 그냥 ...\n",
              "3      4521  Apple   4  아이폰xs 잘쓰다가 고장나서 리퍼받아야하는데 비용이80만원       그래서 그냥 ...\n",
              "4      4522  Apple   4  크기 때문에 se니까 작겠지 생각하고 샀는데 제 생각보다는 크네요 하지만 크기 빼고...\n",
              "...     ...    ...  ..                                                ...\n",
              "1265   9677   삼성전자   3        본체와 구성품에는 하자가 없었지만 상자가 주욱 찢어져서 와서 마음이 아팠습니다\n",
              "1266   9678   삼성전자   3                          배송빠르고 젛아요 부모님 폰 교체할려고주문이요\n",
              "1267   9679   삼성전자   3  제품은 좋습니다  자급제에 개통이력 없는 건 확인했는데  뜯기 전부터 포장상태가 좋...\n",
              "1268   9680   삼성전자   3                                       빠른 배송 아주 좋아요\n",
              "1269   9681   삼성전자   3  핸드폰에 기스도 거의없고 깨끗해요 18년 19년에 한번씩 하이닉스 로그인기록이 있어...\n",
              "\n",
              "[1270 rows x 4 columns]"
            ],
            "text/html": [
              "\n",
              "  <div id=\"df-1785fc97-e557-4500-9d18-b73c974bddb4\">\n",
              "    <div class=\"colab-df-container\">\n",
              "      <div>\n",
              "<style scoped>\n",
              "    .dataframe tbody tr th:only-of-type {\n",
              "        vertical-align: middle;\n",
              "    }\n",
              "\n",
              "    .dataframe tbody tr th {\n",
              "        vertical-align: top;\n",
              "    }\n",
              "\n",
              "    .dataframe thead th {\n",
              "        text-align: right;\n",
              "    }\n",
              "</style>\n",
              "<table border=\"1\" class=\"dataframe\">\n",
              "  <thead>\n",
              "    <tr style=\"text-align: right;\">\n",
              "      <th></th>\n",
              "      <th>index</th>\n",
              "      <th>제조회사</th>\n",
              "      <th>별점</th>\n",
              "      <th>상품평</th>\n",
              "    </tr>\n",
              "  </thead>\n",
              "  <tbody>\n",
              "    <tr>\n",
              "      <th>0</th>\n",
              "      <td>4518</td>\n",
              "      <td>Apple</td>\n",
              "      <td>4</td>\n",
              "      <td>배송빠르고 좋네요 충전기랑 이어폰도 주시고 서비스 너무좋아요  그런데 실버 주문했는...</td>\n",
              "    </tr>\n",
              "    <tr>\n",
              "      <th>1</th>\n",
              "      <td>4519</td>\n",
              "      <td>Apple</td>\n",
              "      <td>4</td>\n",
              "      <td>구입 모델   아이폰 SE2  프로덕트 레드  256GB   구입가격   588 0...</td>\n",
              "    </tr>\n",
              "    <tr>\n",
              "      <th>2</th>\n",
              "      <td>4520</td>\n",
              "      <td>Apple</td>\n",
              "      <td>4</td>\n",
              "      <td>아이폰xs 잘쓰다가 고장나서 리퍼받아야하는데 비용이80만원       그래서 그냥 ...</td>\n",
              "    </tr>\n",
              "    <tr>\n",
              "      <th>3</th>\n",
              "      <td>4521</td>\n",
              "      <td>Apple</td>\n",
              "      <td>4</td>\n",
              "      <td>아이폰xs 잘쓰다가 고장나서 리퍼받아야하는데 비용이80만원       그래서 그냥 ...</td>\n",
              "    </tr>\n",
              "    <tr>\n",
              "      <th>4</th>\n",
              "      <td>4522</td>\n",
              "      <td>Apple</td>\n",
              "      <td>4</td>\n",
              "      <td>크기 때문에 se니까 작겠지 생각하고 샀는데 제 생각보다는 크네요 하지만 크기 빼고...</td>\n",
              "    </tr>\n",
              "    <tr>\n",
              "      <th>...</th>\n",
              "      <td>...</td>\n",
              "      <td>...</td>\n",
              "      <td>...</td>\n",
              "      <td>...</td>\n",
              "    </tr>\n",
              "    <tr>\n",
              "      <th>1265</th>\n",
              "      <td>9677</td>\n",
              "      <td>삼성전자</td>\n",
              "      <td>3</td>\n",
              "      <td>본체와 구성품에는 하자가 없었지만 상자가 주욱 찢어져서 와서 마음이 아팠습니다</td>\n",
              "    </tr>\n",
              "    <tr>\n",
              "      <th>1266</th>\n",
              "      <td>9678</td>\n",
              "      <td>삼성전자</td>\n",
              "      <td>3</td>\n",
              "      <td>배송빠르고 젛아요 부모님 폰 교체할려고주문이요</td>\n",
              "    </tr>\n",
              "    <tr>\n",
              "      <th>1267</th>\n",
              "      <td>9679</td>\n",
              "      <td>삼성전자</td>\n",
              "      <td>3</td>\n",
              "      <td>제품은 좋습니다  자급제에 개통이력 없는 건 확인했는데  뜯기 전부터 포장상태가 좋...</td>\n",
              "    </tr>\n",
              "    <tr>\n",
              "      <th>1268</th>\n",
              "      <td>9680</td>\n",
              "      <td>삼성전자</td>\n",
              "      <td>3</td>\n",
              "      <td>빠른 배송 아주 좋아요</td>\n",
              "    </tr>\n",
              "    <tr>\n",
              "      <th>1269</th>\n",
              "      <td>9681</td>\n",
              "      <td>삼성전자</td>\n",
              "      <td>3</td>\n",
              "      <td>핸드폰에 기스도 거의없고 깨끗해요 18년 19년에 한번씩 하이닉스 로그인기록이 있어...</td>\n",
              "    </tr>\n",
              "  </tbody>\n",
              "</table>\n",
              "<p>1270 rows × 4 columns</p>\n",
              "</div>\n",
              "      <button class=\"colab-df-convert\" onclick=\"convertToInteractive('df-1785fc97-e557-4500-9d18-b73c974bddb4')\"\n",
              "              title=\"Convert this dataframe to an interactive table.\"\n",
              "              style=\"display:none;\">\n",
              "        \n",
              "  <svg xmlns=\"http://www.w3.org/2000/svg\" height=\"24px\"viewBox=\"0 0 24 24\"\n",
              "       width=\"24px\">\n",
              "    <path d=\"M0 0h24v24H0V0z\" fill=\"none\"/>\n",
              "    <path d=\"M18.56 5.44l.94 2.06.94-2.06 2.06-.94-2.06-.94-.94-2.06-.94 2.06-2.06.94zm-11 1L8.5 8.5l.94-2.06 2.06-.94-2.06-.94L8.5 2.5l-.94 2.06-2.06.94zm10 10l.94 2.06.94-2.06 2.06-.94-2.06-.94-.94-2.06-.94 2.06-2.06.94z\"/><path d=\"M17.41 7.96l-1.37-1.37c-.4-.4-.92-.59-1.43-.59-.52 0-1.04.2-1.43.59L10.3 9.45l-7.72 7.72c-.78.78-.78 2.05 0 2.83L4 21.41c.39.39.9.59 1.41.59.51 0 1.02-.2 1.41-.59l7.78-7.78 2.81-2.81c.8-.78.8-2.07 0-2.86zM5.41 20L4 18.59l7.72-7.72 1.47 1.35L5.41 20z\"/>\n",
              "  </svg>\n",
              "      </button>\n",
              "      \n",
              "  <style>\n",
              "    .colab-df-container {\n",
              "      display:flex;\n",
              "      flex-wrap:wrap;\n",
              "      gap: 12px;\n",
              "    }\n",
              "\n",
              "    .colab-df-convert {\n",
              "      background-color: #E8F0FE;\n",
              "      border: none;\n",
              "      border-radius: 50%;\n",
              "      cursor: pointer;\n",
              "      display: none;\n",
              "      fill: #1967D2;\n",
              "      height: 32px;\n",
              "      padding: 0 0 0 0;\n",
              "      width: 32px;\n",
              "    }\n",
              "\n",
              "    .colab-df-convert:hover {\n",
              "      background-color: #E2EBFA;\n",
              "      box-shadow: 0px 1px 2px rgba(60, 64, 67, 0.3), 0px 1px 3px 1px rgba(60, 64, 67, 0.15);\n",
              "      fill: #174EA6;\n",
              "    }\n",
              "\n",
              "    [theme=dark] .colab-df-convert {\n",
              "      background-color: #3B4455;\n",
              "      fill: #D2E3FC;\n",
              "    }\n",
              "\n",
              "    [theme=dark] .colab-df-convert:hover {\n",
              "      background-color: #434B5C;\n",
              "      box-shadow: 0px 1px 3px 1px rgba(0, 0, 0, 0.15);\n",
              "      filter: drop-shadow(0px 1px 2px rgba(0, 0, 0, 0.3));\n",
              "      fill: #FFFFFF;\n",
              "    }\n",
              "  </style>\n",
              "\n",
              "      <script>\n",
              "        const buttonEl =\n",
              "          document.querySelector('#df-1785fc97-e557-4500-9d18-b73c974bddb4 button.colab-df-convert');\n",
              "        buttonEl.style.display =\n",
              "          google.colab.kernel.accessAllowed ? 'block' : 'none';\n",
              "\n",
              "        async function convertToInteractive(key) {\n",
              "          const element = document.querySelector('#df-1785fc97-e557-4500-9d18-b73c974bddb4');\n",
              "          const dataTable =\n",
              "            await google.colab.kernel.invokeFunction('convertToInteractive',\n",
              "                                                     [key], {});\n",
              "          if (!dataTable) return;\n",
              "\n",
              "          const docLinkHtml = 'Like what you see? Visit the ' +\n",
              "            '<a target=\"_blank\" href=https://colab.research.google.com/notebooks/data_table.ipynb>data table notebook</a>'\n",
              "            + ' to learn more about interactive tables.';\n",
              "          element.innerHTML = '';\n",
              "          dataTable['output_type'] = 'display_data';\n",
              "          await google.colab.output.renderOutput(dataTable, element);\n",
              "          const docLink = document.createElement('div');\n",
              "          docLink.innerHTML = docLinkHtml;\n",
              "          element.appendChild(docLink);\n",
              "        }\n",
              "      </script>\n",
              "    </div>\n",
              "  </div>\n",
              "  "
            ]
          },
          "metadata": {},
          "execution_count": 111
        }
      ]
    },
    {
      "cell_type": "code",
      "source": [
        "stopwords = [\"구매\",\"아주\",\"아이폰\",\"삼성\",'갤럭시','정말','중고','제품','상품','박스','할인','핸드폰','휴대폰','진짜','사람','정도','그냥','사용','역시','듭니','조금','애플','노트','플립','미니','프로','생각','없음','배송','쿠팡','로켓','플립',\n",
        "             '폴드','프맥','프로맥스','바로','완전','울트라','골드','시에라','블루','블랙','화이트','실버','맥스','라벤더','레드','매우','없음 ',' 없음',' 없음 ','핑크','흰색','부모님','아빠','어머니','자녀','엄마','도착','새벽','포장','금제','남편','다시',\n",
        "             '최고','고민','사은','이번','자급','핸펀','별로','산다','사지','누가','사드','별로','의미','택배','흔적','처음','관련','자꾸','에두','아버지','전자제품','오후','혼자','닌지','시리즈','개봉','드릴','개통','작년','사도','점도','채도','오늘',\n",
        "             '장사','기기','구리','후기','구입']\n",
        "data_word,corpus,dictionary,high_score_reviews = preprocess(df_bad,stopwords)"
      ],
      "metadata": {
        "colab": {
          "base_uri": "https://localhost:8080/"
        },
        "id": "06VN2s5EK6cg",
        "outputId": "a0b58586-2858-476f-d8a8-067032d9b510"
      },
      "execution_count": null,
      "outputs": [
        {
          "output_type": "stream",
          "name": "stderr",
          "text": [
            "100%|██████████| 460/460 [00:11<00:00, 40.50it/s]\n"
          ]
        }
      ]
    },
    {
      "cell_type": "code",
      "source": [
        "perplexity_values=[]\n",
        "coherence_values=[]\n",
        "for i in range(2,30):\n",
        "  ldamodel=gensim.models.ldamodel.LdaModel(corpus, num_topics=i, id2word=dictionary)\n",
        "  coherence_model_lda=CoherenceModel(model=ldamodel, texts=high_score_reviews, dictionary=dictionary,topn=10)\n",
        "  coherence_lda=coherence_model_lda.get_coherence()\n",
        "  coherence_values.append(coherence_lda)\n",
        "  perplexity_values.append(ldamodel.log_perplexity(corpus))"
      ],
      "metadata": {
        "id": "_GmbHVNXLHiI"
      },
      "execution_count": null,
      "outputs": []
    },
    {
      "cell_type": "code",
      "source": [
        "x=range(2,30)\n",
        "plt.plot(x, coherence_values)\n",
        "plt.xlabel(\"number of topics\")\n",
        "plt.ylabel(\"coherence score\")\n",
        "plt.show()"
      ],
      "metadata": {
        "colab": {
          "base_uri": "https://localhost:8080/",
          "height": 279
        },
        "id": "-pGJgUfxLghL",
        "outputId": "7edd2f7a-5b2c-45d9-cdd7-d85ee6b94719"
      },
      "execution_count": null,
      "outputs": [
        {
          "output_type": "display_data",
          "data": {
            "text/plain": [
              "<Figure size 432x288 with 1 Axes>"
            ],
            "image/png": "[encoded data removed]"
          },
          "metadata": {
            "needs_background": "light"
          }
        }
      ]
    },
    {
      "cell_type": "code",
      "source": [
        "ldamodel=gensim.models.ldamodel.LdaModel(corpus, num_topics=5, id2word=dictionary)\n",
        "coherence_model_lda=CoherenceModel(model=ldamodel, texts=high_score_reviews, dictionary=dictionary,topn=5)\n",
        "coherence_lda=coherence_model_lda.get_coherence()\n",
        "coherence_values.append(coherence_lda)\n",
        "ldamodel.print_topics(num_words=9)"
      ],
      "metadata": {
        "colab": {
          "base_uri": "https://localhost:8080/"
        },
        "id": "03nOmE4zLiwf",
        "outputId": "74a0f124-aad6-4bbc-92ac-de543c690cc0"
      },
      "execution_count": null,
      "outputs": [
        {
          "output_type": "execute_result",
          "data": {
            "text/plain": [
              "[(0,\n",
              "  '0.012*\"연락\" + 0.011*\"배터리\" + 0.011*\"환불\" + 0.009*\"교환\" + 0.008*\"센터\" + 0.008*\"전화\" + 0.007*\"처리\" + 0.007*\"비닐\" + 0.006*\"이자\"'),\n",
              " (1,\n",
              "  '0.023*\"교환\" + 0.013*\"센터\" + 0.011*\"연락\" + 0.010*\"주문\" + 0.008*\"확인\" + 0.007*\"상태\" + 0.007*\"반품\" + 0.007*\"서비스\" + 0.006*\"액정\"'),\n",
              " (2,\n",
              "  '0.016*\"연락\" + 0.014*\"교환\" + 0.011*\"반품\" + 0.011*\"센터\" + 0.011*\"확인\" + 0.009*\"고객\" + 0.009*\"불량\" + 0.009*\"카메라\" + 0.007*\"사전예약\"'),\n",
              " (3,\n",
              "  '0.010*\"문제\" + 0.010*\"교환\" + 0.008*\"상담\" + 0.008*\"확인\" + 0.008*\"충전\" + 0.007*\"배터리\" + 0.006*\"고장\" + 0.006*\"신청\" + 0.006*\"전화\"'),\n",
              " (4,\n",
              "  '0.017*\"사전예약\" + 0.010*\"고객\" + 0.009*\"센터\" + 0.008*\"수리\" + 0.008*\"문제\" + 0.007*\"혜택\" + 0.007*\"문의\" + 0.007*\"사진\" + 0.007*\"카메라\"')]"
            ]
          },
          "metadata": {},
          "execution_count": 126
        }
      ]
    },
    {
      "cell_type": "code",
      "source": [
        ""
      ],
      "metadata": {
        "id": "f4w5Nvy0MZJ3"
      },
      "execution_count": null,
      "outputs": []
    }
  ]
}